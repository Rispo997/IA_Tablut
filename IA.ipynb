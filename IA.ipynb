{
 "cells": [
  {
   "cell_type": "code",
   "execution_count": 5,
   "metadata": {},
   "outputs": [],
   "source": [
    "import numpy\n",
    "import pandas as pd\n",
    "from sklearn.model_selection import train_test_split\n",
    "from sklearn.linear_model import LinearRegression\n",
    "from sklearn.metrics import mean_absolute_error\n",
    "from sklearn import svm\n",
    "\n",
    "import m2cgen as m2c"
   ]
  },
  {
   "cell_type": "code",
   "execution_count": 6,
   "metadata": {},
   "outputs": [
    {
     "name": "stdout",
     "output_type": "stream",
     "text": [
      "Regression:\n",
      "0.21760132823628825\n",
      "0.23019344039125827\n",
      "Support vector regression:\n",
      "0.10916596354443882\n",
      "0.15022571845365065\n"
     ]
    },
    {
     "ename": "RecursionError",
     "evalue": "maximum recursion depth exceeded while calling a Python object",
     "output_type": "error",
     "traceback": [
      "\u001b[1;31m---------------------------------------------------------------------------\u001b[0m",
      "\u001b[1;31mRecursionError\u001b[0m                            Traceback (most recent call last)",
      "\u001b[1;32m<ipython-input-6-e2246f963eef>\u001b[0m in \u001b[0;36m<module>\u001b[1;34m\u001b[0m\n\u001b[0;32m     47\u001b[0m \u001b[1;31m#print(len(svr.coef_ ))\u001b[0m\u001b[1;33m\u001b[0m\u001b[1;33m\u001b[0m\u001b[1;33m\u001b[0m\u001b[0m\n\u001b[0;32m     48\u001b[0m \u001b[1;33m\u001b[0m\u001b[0m\n\u001b[1;32m---> 49\u001b[1;33m \u001b[0mprint\u001b[0m\u001b[1;33m(\u001b[0m\u001b[0mm2c\u001b[0m\u001b[1;33m.\u001b[0m\u001b[0mexport_to_java\u001b[0m\u001b[1;33m(\u001b[0m\u001b[0msvr\u001b[0m\u001b[1;33m)\u001b[0m\u001b[1;33m)\u001b[0m\u001b[1;33m\u001b[0m\u001b[1;33m\u001b[0m\u001b[0m\n\u001b[0m",
      "\u001b[1;32m~\\Anaconda3\\lib\\site-packages\\m2cgen\\exporters.py\u001b[0m in \u001b[0;36mexport_to_java\u001b[1;34m(model, package_name, class_name, indent)\u001b[0m\n\u001b[0;32m     26\u001b[0m         \u001b[0mclass_name\u001b[0m\u001b[1;33m=\u001b[0m\u001b[0mclass_name\u001b[0m\u001b[1;33m,\u001b[0m\u001b[1;33m\u001b[0m\u001b[1;33m\u001b[0m\u001b[0m\n\u001b[0;32m     27\u001b[0m         indent=indent)\n\u001b[1;32m---> 28\u001b[1;33m     \u001b[1;32mreturn\u001b[0m \u001b[0m_export\u001b[0m\u001b[1;33m(\u001b[0m\u001b[0mmodel\u001b[0m\u001b[1;33m,\u001b[0m \u001b[0minterpreter\u001b[0m\u001b[1;33m)\u001b[0m\u001b[1;33m\u001b[0m\u001b[1;33m\u001b[0m\u001b[0m\n\u001b[0m\u001b[0;32m     29\u001b[0m \u001b[1;33m\u001b[0m\u001b[0m\n\u001b[0;32m     30\u001b[0m \u001b[1;33m\u001b[0m\u001b[0m\n",
      "\u001b[1;32m~\\Anaconda3\\lib\\site-packages\\m2cgen\\exporters.py\u001b[0m in \u001b[0;36m_export\u001b[1;34m(model, interpreter)\u001b[0m\n\u001b[0;32m    108\u001b[0m     \u001b[0massembler_cls\u001b[0m \u001b[1;33m=\u001b[0m \u001b[0massemblers\u001b[0m\u001b[1;33m.\u001b[0m\u001b[0mget_assembler_cls\u001b[0m\u001b[1;33m(\u001b[0m\u001b[0mmodel\u001b[0m\u001b[1;33m)\u001b[0m\u001b[1;33m\u001b[0m\u001b[1;33m\u001b[0m\u001b[0m\n\u001b[0;32m    109\u001b[0m     \u001b[0mmodel_ast\u001b[0m \u001b[1;33m=\u001b[0m \u001b[0massembler_cls\u001b[0m\u001b[1;33m(\u001b[0m\u001b[0mmodel\u001b[0m\u001b[1;33m)\u001b[0m\u001b[1;33m.\u001b[0m\u001b[0massemble\u001b[0m\u001b[1;33m(\u001b[0m\u001b[1;33m)\u001b[0m\u001b[1;33m\u001b[0m\u001b[1;33m\u001b[0m\u001b[0m\n\u001b[1;32m--> 110\u001b[1;33m     \u001b[1;32mreturn\u001b[0m \u001b[0minterpreter\u001b[0m\u001b[1;33m.\u001b[0m\u001b[0minterpret\u001b[0m\u001b[1;33m(\u001b[0m\u001b[0mmodel_ast\u001b[0m\u001b[1;33m)\u001b[0m\u001b[1;33m\u001b[0m\u001b[1;33m\u001b[0m\u001b[0m\n\u001b[0m",
      "\u001b[1;32m~\\Anaconda3\\lib\\site-packages\\m2cgen\\interpreters\\java\\interpreter.py\u001b[0m in \u001b[0;36minterpret\u001b[1;34m(self, expr)\u001b[0m\n\u001b[0;32m     47\u001b[0m             \u001b[1;31m# expression and call `process_subroutine_queue` method.\u001b[0m\u001b[1;33m\u001b[0m\u001b[1;33m\u001b[0m\u001b[1;33m\u001b[0m\u001b[0m\n\u001b[0;32m     48\u001b[0m             \u001b[0mself\u001b[0m\u001b[1;33m.\u001b[0m\u001b[0menqueue_subroutine\u001b[0m\u001b[1;33m(\u001b[0m\u001b[1;34m\"score\"\u001b[0m\u001b[1;33m,\u001b[0m \u001b[0mexpr\u001b[0m\u001b[1;33m)\u001b[0m\u001b[1;33m\u001b[0m\u001b[1;33m\u001b[0m\u001b[0m\n\u001b[1;32m---> 49\u001b[1;33m             \u001b[0mself\u001b[0m\u001b[1;33m.\u001b[0m\u001b[0mprocess_subroutine_queue\u001b[0m\u001b[1;33m(\u001b[0m\u001b[0mtop_cg\u001b[0m\u001b[1;33m)\u001b[0m\u001b[1;33m\u001b[0m\u001b[1;33m\u001b[0m\u001b[0m\n\u001b[0m\u001b[0;32m     50\u001b[0m \u001b[1;33m\u001b[0m\u001b[0m\n\u001b[0;32m     51\u001b[0m             \u001b[1;32mif\u001b[0m \u001b[0mself\u001b[0m\u001b[1;33m.\u001b[0m\u001b[0mwith_linear_algebra\u001b[0m\u001b[1;33m:\u001b[0m\u001b[1;33m\u001b[0m\u001b[1;33m\u001b[0m\u001b[0m\n",
      "\u001b[1;32m~\\Anaconda3\\lib\\site-packages\\m2cgen\\interpreters\\mixins.py\u001b[0m in \u001b[0;36mprocess_subroutine_queue\u001b[1;34m(self, top_code_generator)\u001b[0m\n\u001b[0;32m    124\u001b[0m             \u001b[0mself\u001b[0m\u001b[1;33m.\u001b[0m\u001b[0m_reset_reused_expr_cache\u001b[0m\u001b[1;33m(\u001b[0m\u001b[1;33m)\u001b[0m\u001b[1;33m\u001b[0m\u001b[1;33m\u001b[0m\u001b[0m\n\u001b[0;32m    125\u001b[0m             \u001b[0msubroutine\u001b[0m \u001b[1;33m=\u001b[0m \u001b[0mself\u001b[0m\u001b[1;33m.\u001b[0m\u001b[0msubroutine_expr_queue\u001b[0m\u001b[1;33m.\u001b[0m\u001b[0mpop\u001b[0m\u001b[1;33m(\u001b[0m\u001b[1;36m0\u001b[0m\u001b[1;33m)\u001b[0m\u001b[1;33m\u001b[0m\u001b[1;33m\u001b[0m\u001b[0m\n\u001b[1;32m--> 126\u001b[1;33m             \u001b[0msubroutine_code\u001b[0m \u001b[1;33m=\u001b[0m \u001b[0mself\u001b[0m\u001b[1;33m.\u001b[0m\u001b[0mprocess_subroutine\u001b[0m\u001b[1;33m(\u001b[0m\u001b[0msubroutine\u001b[0m\u001b[1;33m)\u001b[0m\u001b[1;33m\u001b[0m\u001b[1;33m\u001b[0m\u001b[0m\n\u001b[0m\u001b[0;32m    127\u001b[0m             \u001b[0mtop_code_generator\u001b[0m\u001b[1;33m.\u001b[0m\u001b[0madd_code_lines\u001b[0m\u001b[1;33m(\u001b[0m\u001b[0msubroutine_code\u001b[0m\u001b[1;33m)\u001b[0m\u001b[1;33m\u001b[0m\u001b[1;33m\u001b[0m\u001b[0m\n\u001b[0;32m    128\u001b[0m \u001b[1;33m\u001b[0m\u001b[0m\n",
      "\u001b[1;32m~\\Anaconda3\\lib\\site-packages\\m2cgen\\interpreters\\mixins.py\u001b[0m in \u001b[0;36mprocess_subroutine\u001b[1;34m(self, subroutine)\u001b[0m\n\u001b[0;32m    149\u001b[0m                 \u001b[0margs\u001b[0m\u001b[1;33m=\u001b[0m\u001b[1;33m[\u001b[0m\u001b[1;33m(\u001b[0m\u001b[1;32mTrue\u001b[0m\u001b[1;33m,\u001b[0m \u001b[0mself\u001b[0m\u001b[1;33m.\u001b[0m\u001b[0m_feature_array_name\u001b[0m\u001b[1;33m)\u001b[0m\u001b[1;33m]\u001b[0m\u001b[1;33m,\u001b[0m\u001b[1;33m\u001b[0m\u001b[1;33m\u001b[0m\u001b[0m\n\u001b[0;32m    150\u001b[0m                 is_vector_output=is_vector_output):\n\u001b[1;32m--> 151\u001b[1;33m             \u001b[0mlast_result\u001b[0m \u001b[1;33m=\u001b[0m \u001b[0mself\u001b[0m\u001b[1;33m.\u001b[0m\u001b[0m_do_interpret\u001b[0m\u001b[1;33m(\u001b[0m\u001b[0msubroutine\u001b[0m\u001b[1;33m.\u001b[0m\u001b[0mexpr\u001b[0m\u001b[1;33m)\u001b[0m\u001b[1;33m\u001b[0m\u001b[1;33m\u001b[0m\u001b[0m\n\u001b[0m\u001b[0;32m    152\u001b[0m             \u001b[0mself\u001b[0m\u001b[1;33m.\u001b[0m\u001b[0m_cg\u001b[0m\u001b[1;33m.\u001b[0m\u001b[0madd_return_statement\u001b[0m\u001b[1;33m(\u001b[0m\u001b[0mlast_result\u001b[0m\u001b[1;33m)\u001b[0m\u001b[1;33m\u001b[0m\u001b[1;33m\u001b[0m\u001b[0m\n\u001b[0;32m    153\u001b[0m \u001b[1;33m\u001b[0m\u001b[0m\n",
      "\u001b[1;32m~\\Anaconda3\\lib\\site-packages\\m2cgen\\interpreters\\interpreter.py\u001b[0m in \u001b[0;36m_do_interpret\u001b[1;34m(self, expr, to_reuse, **kwargs)\u001b[0m\n\u001b[0;32m     45\u001b[0m         \u001b[0mexpr_to_reuse\u001b[0m \u001b[1;33m=\u001b[0m \u001b[0mto_reuse\u001b[0m \u001b[1;32mif\u001b[0m \u001b[0mto_reuse\u001b[0m \u001b[1;32mis\u001b[0m \u001b[1;32mnot\u001b[0m \u001b[1;32mNone\u001b[0m \u001b[1;32melse\u001b[0m \u001b[0mexpr\u001b[0m\u001b[1;33m.\u001b[0m\u001b[0mto_reuse\u001b[0m\u001b[1;33m\u001b[0m\u001b[1;33m\u001b[0m\u001b[0m\n\u001b[0;32m     46\u001b[0m         \u001b[1;32mif\u001b[0m \u001b[1;32mnot\u001b[0m \u001b[0mexpr_to_reuse\u001b[0m\u001b[1;33m:\u001b[0m\u001b[1;33m\u001b[0m\u001b[1;33m\u001b[0m\u001b[0m\n\u001b[1;32m---> 47\u001b[1;33m             \u001b[1;32mreturn\u001b[0m \u001b[0mhandler\u001b[0m\u001b[1;33m(\u001b[0m\u001b[0mexpr\u001b[0m\u001b[1;33m,\u001b[0m \u001b[1;33m**\u001b[0m\u001b[0mkwargs\u001b[0m\u001b[1;33m)\u001b[0m\u001b[1;33m\u001b[0m\u001b[1;33m\u001b[0m\u001b[0m\n\u001b[0m\u001b[0;32m     48\u001b[0m \u001b[1;33m\u001b[0m\u001b[0m\n\u001b[0;32m     49\u001b[0m         \u001b[1;32mif\u001b[0m \u001b[0mexpr\u001b[0m \u001b[1;32min\u001b[0m \u001b[0mself\u001b[0m\u001b[1;33m.\u001b[0m\u001b[0m_cached_expr_results\u001b[0m\u001b[1;33m:\u001b[0m\u001b[1;33m\u001b[0m\u001b[1;33m\u001b[0m\u001b[0m\n",
      "\u001b[1;32m~\\Anaconda3\\lib\\site-packages\\m2cgen\\interpreters\\interpreter.py\u001b[0m in \u001b[0;36minterpret_bin_num_expr\u001b[1;34m(self, expr, **kwargs)\u001b[0m\n\u001b[0;32m    136\u001b[0m     \u001b[1;32mdef\u001b[0m \u001b[0minterpret_bin_num_expr\u001b[0m\u001b[1;33m(\u001b[0m\u001b[0mself\u001b[0m\u001b[1;33m,\u001b[0m \u001b[0mexpr\u001b[0m\u001b[1;33m,\u001b[0m \u001b[1;33m**\u001b[0m\u001b[0mkwargs\u001b[0m\u001b[1;33m)\u001b[0m\u001b[1;33m:\u001b[0m\u001b[1;33m\u001b[0m\u001b[1;33m\u001b[0m\u001b[0m\n\u001b[0;32m    137\u001b[0m         return self._cg.infix_expression(\n\u001b[1;32m--> 138\u001b[1;33m             \u001b[0mleft\u001b[0m\u001b[1;33m=\u001b[0m\u001b[0mself\u001b[0m\u001b[1;33m.\u001b[0m\u001b[0m_do_interpret\u001b[0m\u001b[1;33m(\u001b[0m\u001b[0mexpr\u001b[0m\u001b[1;33m.\u001b[0m\u001b[0mleft\u001b[0m\u001b[1;33m,\u001b[0m \u001b[1;33m**\u001b[0m\u001b[0mkwargs\u001b[0m\u001b[1;33m)\u001b[0m\u001b[1;33m,\u001b[0m\u001b[1;33m\u001b[0m\u001b[1;33m\u001b[0m\u001b[0m\n\u001b[0m\u001b[0;32m    139\u001b[0m             \u001b[0mop\u001b[0m\u001b[1;33m=\u001b[0m\u001b[0mexpr\u001b[0m\u001b[1;33m.\u001b[0m\u001b[0mop\u001b[0m\u001b[1;33m.\u001b[0m\u001b[0mvalue\u001b[0m\u001b[1;33m,\u001b[0m\u001b[1;33m\u001b[0m\u001b[1;33m\u001b[0m\u001b[0m\n\u001b[0;32m    140\u001b[0m             right=self._do_interpret(expr.right, **kwargs))\n",
      "... last 2 frames repeated, from the frame below ...\n",
      "\u001b[1;32m~\\Anaconda3\\lib\\site-packages\\m2cgen\\interpreters\\interpreter.py\u001b[0m in \u001b[0;36m_do_interpret\u001b[1;34m(self, expr, to_reuse, **kwargs)\u001b[0m\n\u001b[0;32m     45\u001b[0m         \u001b[0mexpr_to_reuse\u001b[0m \u001b[1;33m=\u001b[0m \u001b[0mto_reuse\u001b[0m \u001b[1;32mif\u001b[0m \u001b[0mto_reuse\u001b[0m \u001b[1;32mis\u001b[0m \u001b[1;32mnot\u001b[0m \u001b[1;32mNone\u001b[0m \u001b[1;32melse\u001b[0m \u001b[0mexpr\u001b[0m\u001b[1;33m.\u001b[0m\u001b[0mto_reuse\u001b[0m\u001b[1;33m\u001b[0m\u001b[1;33m\u001b[0m\u001b[0m\n\u001b[0;32m     46\u001b[0m         \u001b[1;32mif\u001b[0m \u001b[1;32mnot\u001b[0m \u001b[0mexpr_to_reuse\u001b[0m\u001b[1;33m:\u001b[0m\u001b[1;33m\u001b[0m\u001b[1;33m\u001b[0m\u001b[0m\n\u001b[1;32m---> 47\u001b[1;33m             \u001b[1;32mreturn\u001b[0m \u001b[0mhandler\u001b[0m\u001b[1;33m(\u001b[0m\u001b[0mexpr\u001b[0m\u001b[1;33m,\u001b[0m \u001b[1;33m**\u001b[0m\u001b[0mkwargs\u001b[0m\u001b[1;33m)\u001b[0m\u001b[1;33m\u001b[0m\u001b[1;33m\u001b[0m\u001b[0m\n\u001b[0m\u001b[0;32m     48\u001b[0m \u001b[1;33m\u001b[0m\u001b[0m\n\u001b[0;32m     49\u001b[0m         \u001b[1;32mif\u001b[0m \u001b[0mexpr\u001b[0m \u001b[1;32min\u001b[0m \u001b[0mself\u001b[0m\u001b[1;33m.\u001b[0m\u001b[0m_cached_expr_results\u001b[0m\u001b[1;33m:\u001b[0m\u001b[1;33m\u001b[0m\u001b[1;33m\u001b[0m\u001b[0m\n",
      "\u001b[1;31mRecursionError\u001b[0m: maximum recursion depth exceeded while calling a Python object"
     ]
    }
   ],
   "source": [
    "col_names = []\n",
    "for i in range(9):\n",
    "  for j in range(9):\n",
    "    col_names.append(str(i)+\",\"+str(j)+\"(black)\")\n",
    "    col_names.append(str(i)+\",\"+str(j)+\"(white)\")\n",
    "    col_names.append(str(i)+\",\"+str(j)+\"(king)\")\n",
    "    col_names.append(str(i)+\",\"+str(j)+\"(empty)\")\n",
    "    col_names.append(str(i)+\",\"+str(j)+\"(camps)\")\n",
    "    col_names.append(str(i)+\",\"+str(j)+\"(escapes)\")\n",
    "col_names.append(\"Player\")\n",
    "col_names.append(\"Evaluation\")\n",
    "data = pd.read_csv(\"dataset.csv\",names=col_names)\n",
    "#deleting drawing\n",
    "data = data[data['Evaluation'] != 0]\n",
    "#train just white\n",
    "data = data[data['Player'] == 0]\n",
    "#train just black\n",
    "#data = data[data['Player'] == 1]\n",
    "#data = data[data['Evaluation'] > 0]\n",
    "#print(data.count)\n",
    "#nothing -> train everybody\n",
    "X = data.drop(\"Evaluation\",axis=1)\n",
    "Y = data[\"Evaluation\"]\n",
    "Xtrain,Xtest,Ytrain,Ytest = train_test_split(X,Y,random_state=1)\n",
    "#regression\n",
    "reg = LinearRegression()\n",
    "model = reg.fit(Xtrain,Ytrain)\n",
    "predictions = reg.predict(Xtest)\n",
    "test = mean_absolute_error(Ytest, predictions)\n",
    "predictions = reg.predict(Xtrain)\n",
    "train = mean_absolute_error(Ytrain, predictions)\n",
    "print(\"Regression:\")\n",
    "print(train)\n",
    "print(test)\n",
    "#support vector linear regression\n",
    "svr = svm.SVR(kernel='poly', gamma='scale')\n",
    "#svr = svm.LinearSVR(max_iter=15000)\n",
    "model = svr.fit(Xtrain,Ytrain)\n",
    "predictions = svr.predict(Xtest)\n",
    "test = mean_absolute_error(Ytest, predictions)\n",
    "predictions = svr.predict(Xtrain)\n",
    "train = mean_absolute_error(Ytrain, predictions)\n",
    "print(\"Support vector regression:\")\n",
    "print(train)\n",
    "print(test)\n",
    "#print(svr.coef_ )\n",
    "#print(len(svr.coef_ ))\n",
    "\n",
    "print(m2c.export_to_java(svr))"
   ]
  },
  {
   "cell_type": "code",
   "execution_count": null,
   "metadata": {},
   "outputs": [],
   "source": []
  }
 ],
 "metadata": {
  "kernelspec": {
   "display_name": "Python 3",
   "language": "python",
   "name": "python3"
  },
  "language_info": {
   "codemirror_mode": {
    "name": "ipython",
    "version": 3
   },
   "file_extension": ".py",
   "mimetype": "text/x-python",
   "name": "python",
   "nbconvert_exporter": "python",
   "pygments_lexer": "ipython3",
   "version": "3.7.3"
  }
 },
 "nbformat": 4,
 "nbformat_minor": 2
}
