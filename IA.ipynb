{
 "cells": [
  {
   "cell_type": "code",
   "execution_count": 85,
   "metadata": {},
   "outputs": [],
   "source": [
    "import numpy\n",
    "import pandas as pd\n",
    "from sklearn.model_selection import train_test_split\n",
    "from sklearn.linear_model import LinearRegression\n",
    "from sklearn.metrics import mean_absolute_error\n",
    "from sklearn import svm"
   ]
  },
  {
   "cell_type": "code",
   "execution_count": 130,
   "metadata": {},
   "outputs": [
    {
     "name": "stdout",
     "output_type": "stream",
     "text": [
      "Support vector regression:\n",
      "0.026773459076532016\n",
      "0.022867789499430108\n"
     ]
    },
    {
     "name": "stderr",
     "output_type": "stream",
     "text": [
      "C:\\Users\\andre\\Anaconda3\\lib\\site-packages\\sklearn\\svm\\base.py:931: ConvergenceWarning: Liblinear failed to converge, increase the number of iterations.\n",
      "  \"the number of iterations.\", ConvergenceWarning)\n"
     ]
    }
   ],
   "source": [
    "col_names = []\n",
    "for i in range(9):\n",
    "  for j in range(9):\n",
    "    col_names.append(str(i)+\",\"+str(j)+\"(black)\")\n",
    "    col_names.append(str(i)+\",\"+str(j)+\"(white)\")\n",
    "    col_names.append(str(i)+\",\"+str(j)+\"(king)\")\n",
    "col_names.append(\"Player\")\n",
    "col_names.append(\"Evaluation\")\n",
    "data = pd.read_csv(\"dataset.csv\",names=col_names)\n",
    "#deleting drawing\n",
    "#data = data[data['Evaluation'] != 0]\n",
    "#train just white\n",
    "#data = data[data['Player'] == 1]\n",
    "#train just black\n",
    "#data = data[data['Player'] == 0]\n",
    "#data = data[data['Evaluation'] > 0]\n",
    "#print(data.count)\n",
    "#nothing -> train everybody\n",
    "X = data.drop(\"Evaluation\",axis=1)\n",
    "Y = data[\"Evaluation\"]\n",
    "Xtrain,Xtest,Ytrain,Ytest = train_test_split(X,Y,random_state=1)\n",
    "#regression\n",
    "#reg = LinearRegression()\n",
    "#model = reg.fit(Xtrain,Ytrain)\n",
    "#predictions = reg.predict(Xtest)\n",
    "#test = mean_absolute_error(Ytest, predictions)\n",
    "#predictions = reg.predict(Xtrain)\n",
    "#train = mean_absolute_error(Ytrain, predictions)\n",
    "#print(\"Regression:\")\n",
    "#print(train)\n",
    "#print(test)\n",
    "#support vector linear regression\n",
    "#svr = svm.SVR()\n",
    "svr = svm.LinearSVR(max_iter=15000)\n",
    "model = svr.fit(Xtrain,Ytrain)\n",
    "predictions = svr.predict(Xtest)\n",
    "test = mean_absolute_error(Ytest, predictions)\n",
    "predictions = svr.predict(Xtrain)\n",
    "train = mean_absolute_error(Ytrain, predictions)\n",
    "print(\"Support vector regression:\")\n",
    "print(train)\n",
    "print(test)"
   ]
  }
 ],
 "metadata": {
  "kernelspec": {
   "display_name": "Python 3",
   "language": "python",
   "name": "python3"
  },
  "language_info": {
   "codemirror_mode": {
    "name": "ipython",
    "version": 3
   },
   "file_extension": ".py",
   "mimetype": "text/x-python",
   "name": "python",
   "nbconvert_exporter": "python",
   "pygments_lexer": "ipython3",
   "version": "3.7.3"
  }
 },
 "nbformat": 4,
 "nbformat_minor": 2
}
