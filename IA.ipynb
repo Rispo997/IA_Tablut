{
 "cells": [
  {
   "cell_type": "code",
   "execution_count": 22,
   "metadata": {},
   "outputs": [],
   "source": [
    "import numpy\n",
    "import pandas as pd\n",
    "from sklearn.model_selection import train_test_split\n",
    "from sklearn.linear_model import LinearRegression\n",
    "from sklearn.metrics import mean_absolute_error"
   ]
  },
  {
   "cell_type": "code",
   "execution_count": 30,
   "metadata": {},
   "outputs": [
    {
     "name": "stdout",
     "output_type": "stream",
     "text": [
      "0.2883060390864042\n",
      "0.2958836931186511\n"
     ]
    }
   ],
   "source": [
    "col_names = []\n",
    "for i in range(9):\n",
    "  for j in range(9):\n",
    "    col_names.append(str(i)+\",\"+str(j))\n",
    "col_names.append(\"Player\")\n",
    "col_names.append(\"Evaluation\")\n",
    "data = pd.read_csv(\"dataset.csv\",names=col_names)\n",
    "X = data.drop(\"Evaluation\",axis=1)\n",
    "Y = data[\"Evaluation\"]\n",
    "Xtrain,Xtest,Ytrain,Ytest = train_test_split(X,Y,random_state=1)\n",
    "reg = LinearRegression()\n",
    "model = reg.fit(Xtrain,Ytrain)\n",
    "predictions = reg.predict(Xtest)\n",
    "test = mean_absolute_error(Ytest, predictions)\n",
    "predictions = reg.predict(Xtrain)\n",
    "train = mean_absolute_error(Ytrain, predictions)\n",
    "print(train)\n",
    "print(test)"
   ]
  },
  {
   "cell_type": "code",
   "execution_count": null,
   "metadata": {},
   "outputs": [],
   "source": []
  }
 ],
 "metadata": {
  "kernelspec": {
   "display_name": "Python 3",
   "language": "python",
   "name": "python3"
  },
  "language_info": {
   "codemirror_mode": {
    "name": "ipython",
    "version": 3
   },
   "file_extension": ".py",
   "mimetype": "text/x-python",
   "name": "python",
   "nbconvert_exporter": "python",
   "pygments_lexer": "ipython3",
   "version": "3.7.4"
  }
 },
 "nbformat": 4,
 "nbformat_minor": 2
}
